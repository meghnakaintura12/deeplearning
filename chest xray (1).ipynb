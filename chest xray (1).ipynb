{
 "cells": [
  {
   "cell_type": "code",
   "execution_count": 9,
   "id": "5fe523fa",
   "metadata": {},
   "outputs": [],
   "source": [
    "# Class test\n",
    "\n",
    "# import libraries\n",
    "\n",
    "# 1.0 Data manipulation library\n",
    "import pandas as pd\n",
    "\n",
    "# 1.1 Call libraries for image processing\n",
    "from tensorflow.keras.preprocessing.image import ImageDataGenerator\n",
    "\n",
    "# 1.2, Libraries for building sequential CNN model\n",
    "from tensorflow.keras.models import Sequential\n",
    "from tensorflow.keras.layers import Conv2D, MaxPool2D\n",
    "from tensorflow.keras.layers import Activation, Dropout, Flatten, Dense, Input\n",
    "\n",
    "# 1.5 OS related\n",
    "import os\n",
    "\n",
    "# 1.6 For ROC plotting\n",
    "import matplotlib.pyplot as plt\n",
    "\n",
    "# 1.7\n",
    "import numpy as np\n",
    "\n",
    "# conda install scikit-learn\n",
    "from sklearn import metrics\n",
    "import time\n"
   ]
  },
  {
   "cell_type": "code",
   "execution_count": 10,
   "id": "fc638203",
   "metadata": {},
   "outputs": [],
   "source": [
    "# 2\n",
    "\n",
    "# 2.1 adjusting images\n",
    "img_width, img_height = 150, 150\n",
    "\n",
    "# 2.2 Test and train data \n",
    "train_data_dir =r'D:\\chest_xray\\train'\n",
    "test_data_dir =r'D:\\chest_xray\\test'\n",
    "\n",
    "# 2.3 Train data samples to be generated\n",
    "nb_train_samples = 2500 \n",
    "\n",
    "# 2.4 validation data\n",
    "validation_data_dir = r'D:\\chest_xray\\val'\n",
    "\n",
    "# 2.5 validation samples to be generated\n",
    "nb_validation_samples = 20\n",
    "\n",
    "# 2.6 Batch size to train at one go:\n",
    "batch_size = 10\n",
    "\n",
    "# 2.7\n",
    "epochs = 10\n",
    "\n",
    "# 2.8 No of test samples\n",
    "test_generator_samples = 400\n",
    "\n",
    "# 2.9test data,batch size\n",
    "test_batch_size = 24    \n",
    "\n",
    "# 2.10\n",
    "input_shape = (img_width, img_height, 3)\n",
    "\n",
    "\n"
   ]
  },
  {
   "cell_type": "code",
   "execution_count": 11,
   "id": "2df2b8a6",
   "metadata": {},
   "outputs": [],
   "source": [
    "# Model Design\n",
    "model= Sequential()"
   ]
  },
  {
   "cell_type": "code",
   "execution_count": 12,
   "id": "97999273",
   "metadata": {},
   "outputs": [],
   "source": [
    "model.add(Input(shape=(img_width,img_height,3)))"
   ]
  },
  {
   "cell_type": "code",
   "execution_count": 13,
   "id": "0bbb1bcb",
   "metadata": {},
   "outputs": [],
   "source": [
    "model.add(Conv2D(filters=32,kernel_size=4,strides=3,padding='same', activation= 'relu' ))"
   ]
  },
  {
   "cell_type": "code",
   "execution_count": 14,
   "id": "43fcb3b6",
   "metadata": {},
   "outputs": [],
   "source": [
    "model.add(MaxPool2D())"
   ]
  },
  {
   "cell_type": "code",
   "execution_count": 15,
   "id": "ef77b779",
   "metadata": {},
   "outputs": [],
   "source": [
    "model.add (Conv2D(filters=20, kernel_size=4, activation ='sigmoid'))"
   ]
  },
  {
   "cell_type": "code",
   "execution_count": 16,
   "id": "8addca76",
   "metadata": {},
   "outputs": [],
   "source": [
    "model.add(MaxPool2D())"
   ]
  },
  {
   "cell_type": "code",
   "execution_count": 17,
   "id": "21edcc73",
   "metadata": {},
   "outputs": [],
   "source": [
    "model.add (Conv2D(filters=20, kernel_size=4, activation ='relu'))"
   ]
  },
  {
   "cell_type": "code",
   "execution_count": 18,
   "id": "b090cc9b",
   "metadata": {},
   "outputs": [],
   "source": [
    "model.add(MaxPool2D())"
   ]
  },
  {
   "cell_type": "code",
   "execution_count": 19,
   "id": "207b38f3",
   "metadata": {},
   "outputs": [
    {
     "name": "stdout",
     "output_type": "stream",
     "text": [
      "Model: \"sequential\"\n",
      "_________________________________________________________________\n",
      " Layer (type)                Output Shape              Param #   \n",
      "=================================================================\n",
      " conv2d (Conv2D)             (None, 50, 50, 32)        1568      \n",
      "                                                                 \n",
      " max_pooling2d (MaxPooling2D  (None, 25, 25, 32)       0         \n",
      " )                                                               \n",
      "                                                                 \n",
      " conv2d_1 (Conv2D)           (None, 22, 22, 20)        10260     \n",
      "                                                                 \n",
      " max_pooling2d_1 (MaxPooling  (None, 11, 11, 20)       0         \n",
      " 2D)                                                             \n",
      "                                                                 \n",
      " conv2d_2 (Conv2D)           (None, 8, 8, 20)          6420      \n",
      "                                                                 \n",
      " max_pooling2d_2 (MaxPooling  (None, 4, 4, 20)         0         \n",
      " 2D)                                                             \n",
      "                                                                 \n",
      "=================================================================\n",
      "Total params: 18,248\n",
      "Trainable params: 18,248\n",
      "Non-trainable params: 0\n",
      "_________________________________________________________________\n"
     ]
    }
   ],
   "source": [
    "model.summary()"
   ]
  },
  {
   "cell_type": "code",
   "execution_count": 20,
   "id": "bc2e9c17",
   "metadata": {},
   "outputs": [],
   "source": [
    "model.add(Flatten())"
   ]
  },
  {
   "cell_type": "code",
   "execution_count": 21,
   "id": "737e71c9",
   "metadata": {},
   "outputs": [],
   "source": [
    "model.add(Dense(458,activation ='relu'))"
   ]
  },
  {
   "cell_type": "code",
   "execution_count": 22,
   "id": "605472ef",
   "metadata": {},
   "outputs": [],
   "source": [
    "model.add(Dropout(rate=0.38))"
   ]
  },
  {
   "cell_type": "code",
   "execution_count": 23,
   "id": "e1a597f2",
   "metadata": {},
   "outputs": [],
   "source": [
    "model.add(Dense(212,activation='relu'))"
   ]
  },
  {
   "cell_type": "code",
   "execution_count": 24,
   "id": "4c89372a",
   "metadata": {},
   "outputs": [],
   "source": [
    "model.add(Dropout(rate=0.32))"
   ]
  },
  {
   "cell_type": "code",
   "execution_count": 25,
   "id": "81827b5f",
   "metadata": {},
   "outputs": [],
   "source": [
    "model.add(Dense(100,activation='sigmoid'))"
   ]
  },
  {
   "cell_type": "code",
   "execution_count": 26,
   "id": "21762777",
   "metadata": {},
   "outputs": [],
   "source": [
    "model.add(Dropout(rate=0.22))"
   ]
  },
  {
   "cell_type": "code",
   "execution_count": 27,
   "id": "81167a5b",
   "metadata": {},
   "outputs": [],
   "source": [
    "model.add(Dense(1,activation='sigmoid'))"
   ]
  },
  {
   "cell_type": "code",
   "execution_count": 28,
   "id": "a686a3af",
   "metadata": {},
   "outputs": [],
   "source": [
    "model.compile(loss='binary_crossentropy',optimizer='adam',metrics=['accuracy'])"
   ]
  },
  {
   "cell_type": "code",
   "execution_count": 29,
   "id": "2807b7cd",
   "metadata": {},
   "outputs": [
    {
     "name": "stdout",
     "output_type": "stream",
     "text": [
      "Model: \"sequential\"\n",
      "_________________________________________________________________\n",
      " Layer (type)                Output Shape              Param #   \n",
      "=================================================================\n",
      " conv2d (Conv2D)             (None, 50, 50, 32)        1568      \n",
      "                                                                 \n",
      " max_pooling2d (MaxPooling2D  (None, 25, 25, 32)       0         \n",
      " )                                                               \n",
      "                                                                 \n",
      " conv2d_1 (Conv2D)           (None, 22, 22, 20)        10260     \n",
      "                                                                 \n",
      " max_pooling2d_1 (MaxPooling  (None, 11, 11, 20)       0         \n",
      " 2D)                                                             \n",
      "                                                                 \n",
      " conv2d_2 (Conv2D)           (None, 8, 8, 20)          6420      \n",
      "                                                                 \n",
      " max_pooling2d_2 (MaxPooling  (None, 4, 4, 20)         0         \n",
      " 2D)                                                             \n",
      "                                                                 \n",
      " flatten (Flatten)           (None, 320)               0         \n",
      "                                                                 \n",
      " dense (Dense)               (None, 458)               147018    \n",
      "                                                                 \n",
      " dropout (Dropout)           (None, 458)               0         \n",
      "                                                                 \n",
      " dense_1 (Dense)             (None, 212)               97308     \n",
      "                                                                 \n",
      " dropout_1 (Dropout)         (None, 212)               0         \n",
      "                                                                 \n",
      " dense_2 (Dense)             (None, 100)               21300     \n",
      "                                                                 \n",
      " dropout_2 (Dropout)         (None, 100)               0         \n",
      "                                                                 \n",
      " dense_3 (Dense)             (None, 1)                 101       \n",
      "                                                                 \n",
      "=================================================================\n",
      "Total params: 283,975\n",
      "Trainable params: 283,975\n",
      "Non-trainable params: 0\n",
      "_________________________________________________________________\n"
     ]
    }
   ],
   "source": [
    "model.summary()\n"
   ]
  },
  {
   "cell_type": "code",
   "execution_count": 30,
   "id": "42479437",
   "metadata": {},
   "outputs": [],
   "source": [
    "tr_dtgen = ImageDataGenerator(\n",
    "                              rescale=1. / 255,      \n",
    "                              shear_range=0.2,      \n",
    "                              zoom_range=0.3,\n",
    "                              horizontal_flip=True,\n",
    "                              )"
   ]
  },
  {
   "cell_type": "code",
   "execution_count": 31,
   "id": "3129f977",
   "metadata": {},
   "outputs": [
    {
     "name": "stdout",
     "output_type": "stream",
     "text": [
      "Found 5216 images belonging to 2 classes.\n"
     ]
    }
   ],
   "source": [
    "train_generator = tr_dtgen.flow_from_directory(\n",
    "                                               train_data_dir,       \n",
    "                                               target_size=(img_width, img_height),  \n",
    "                                               batch_size=batch_size, \n",
    "                                               class_mode='binary'  \n",
    "\n",
    "                                                )"
   ]
  },
  {
   "cell_type": "code",
   "execution_count": 32,
   "id": "d29f20d9",
   "metadata": {},
   "outputs": [],
   "source": [
    "val_dtgen = ImageDataGenerator(rescale=1. / 255)"
   ]
  },
  {
   "cell_type": "code",
   "execution_count": 33,
   "id": "0b44440c",
   "metadata": {},
   "outputs": [
    {
     "name": "stdout",
     "output_type": "stream",
     "text": [
      "Found 16 images belonging to 2 classes.\n"
     ]
    }
   ],
   "source": [
    "validation_generator = val_dtgen.flow_from_directory(\n",
    "                                                     validation_data_dir,\n",
    "                                                     target_size=(img_width, img_height),   \n",
    "                                                     batch_size=batch_size,    \n",
    "                                                     class_mode='binary'  \n",
    "                                                     )"
   ]
  },
  {
   "cell_type": "code",
   "execution_count": 34,
   "id": "cb17d2bd",
   "metadata": {},
   "outputs": [
    {
     "name": "stdout",
     "output_type": "stream",
     "text": [
      "Epoch 1/10\n"
     ]
    },
    {
     "name": "stderr",
     "output_type": "stream",
     "text": [
      "C:\\Users\\ubuntu\\AppData\\Local\\Temp\\ipykernel_58036\\661567633.py:2: UserWarning: `Model.fit_generator` is deprecated and will be removed in a future version. Please use `Model.fit`, which supports generators.\n",
      "  history = model.fit_generator(\n"
     ]
    },
    {
     "name": "stdout",
     "output_type": "stream",
     "text": [
      "250/250 [==============================] - 29s 109ms/step - loss: 0.5977 - accuracy: 0.7352 - val_loss: 1.0229 - val_accuracy: 0.5000\n",
      "Epoch 2/10\n",
      "250/250 [==============================] - 27s 108ms/step - loss: 0.5960 - accuracy: 0.7324 - val_loss: 0.8103 - val_accuracy: 0.5000\n",
      "Epoch 3/10\n",
      "250/250 [==============================] - 27s 106ms/step - loss: 0.5161 - accuracy: 0.7612 - val_loss: 0.7193 - val_accuracy: 0.6875\n",
      "Epoch 4/10\n",
      "250/250 [==============================] - 27s 106ms/step - loss: 0.3465 - accuracy: 0.8464 - val_loss: 0.6669 - val_accuracy: 0.6875\n",
      "Epoch 5/10\n",
      "250/250 [==============================] - 26s 103ms/step - loss: 0.3302 - accuracy: 0.8526 - val_loss: 0.8873 - val_accuracy: 0.6875\n",
      "Epoch 6/10\n",
      "250/250 [==============================] - 26s 106ms/step - loss: 0.2896 - accuracy: 0.8726 - val_loss: 0.6753 - val_accuracy: 0.7500\n",
      "Epoch 7/10\n",
      "250/250 [==============================] - 27s 108ms/step - loss: 0.2831 - accuracy: 0.8762 - val_loss: 0.6323 - val_accuracy: 0.6875\n",
      "Epoch 8/10\n",
      "250/250 [==============================] - 27s 109ms/step - loss: 0.2840 - accuracy: 0.8772 - val_loss: 0.6223 - val_accuracy: 0.7500\n",
      "Epoch 9/10\n",
      "250/250 [==============================] - 27s 109ms/step - loss: 0.2874 - accuracy: 0.8786 - val_loss: 0.5640 - val_accuracy: 0.8125\n",
      "Epoch 10/10\n",
      "250/250 [==============================] - 27s 109ms/step - loss: 0.2476 - accuracy: 0.8980 - val_loss: 0.6123 - val_accuracy: 0.7500\n"
     ]
    },
    {
     "data": {
      "text/plain": [
       "4.500319993495941"
      ]
     },
     "execution_count": 34,
     "metadata": {},
     "output_type": "execute_result"
    }
   ],
   "source": [
    "start = time.time()\n",
    "history = model.fit_generator(\n",
    "                              generator = train_generator,\n",
    "                              steps_per_epoch=nb_train_samples // batch_size, epochs=epochs,\n",
    "                              validation_data=validation_generator,\n",
    "                              verbose = 1,\n",
    "                              validation_steps=nb_validation_samples // batch_size\n",
    "                              )\n",
    "\n",
    "end = time.time()\n",
    "(end - start)/60"
   ]
  },
  {
   "cell_type": "code",
   "execution_count": 37,
   "id": "81600843",
   "metadata": {},
   "outputs": [
    {
     "name": "stdout",
     "output_type": "stream",
     "text": [
      "1/4 [======>.......................] - ETA: 0s - loss: 0.9128 - accuracy: 0.6000WARNING:tensorflow:Your input ran out of data; interrupting training. Make sure that your dataset or generator can generate at least `steps_per_epoch * epochs` batches (in this case, 4 batches). You may need to use the repeat() function when building your dataset.\n",
      "4/4 [==============================] - 0s 18ms/step - loss: 0.6123 - accuracy: 0.7500\n"
     ]
    },
    {
     "data": {
      "text/plain": [
       "[0.612318217754364, 0.75]"
      ]
     },
     "execution_count": 37,
     "metadata": {},
     "output_type": "execute_result"
    }
   ],
   "source": [
    "result = model.evaluate(\n",
    "                        validation_generator,\n",
    "                        verbose = 1,\n",
    "                        steps = 4        # How many batches\n",
    "                        )\n",
    "\n",
    "\n",
    "# 7.1.1\n",
    "result     # ['loss', 'accuracy']"
   ]
  },
  {
   "cell_type": "code",
   "execution_count": 38,
   "id": "e24ca35d",
   "metadata": {},
   "outputs": [
    {
     "name": "stdout",
     "output_type": "stream",
     "text": [
      "2/2 [==============================] - 0s 47ms/step\n"
     ]
    },
    {
     "data": {
      "text/plain": [
       "array([[0.9950316],\n",
       "       [0.979634 ],\n",
       "       [0.9855435],\n",
       "       [0.6298698],\n",
       "       [0.7873101]], dtype=float32)"
      ]
     },
     "execution_count": 38,
     "metadata": {},
     "output_type": "execute_result"
    }
   ],
   "source": [
    "# 8.0 Make predictions\n",
    "\n",
    "# 8.1 Using generator\n",
    "#     https://www.tensorflow.org/api_docs/python/tf/keras/Model#predict\n",
    "pred = model.predict(validation_generator, steps = 2)\n",
    "\n",
    "# 8.1.1\n",
    "pred[:5]\n"
   ]
  },
  {
   "cell_type": "code",
   "execution_count": null,
   "id": "9c3868ba",
   "metadata": {},
   "outputs": [],
   "source": []
  }
 ],
 "metadata": {
  "kernelspec": {
   "display_name": "Python 3 (ipykernel)",
   "language": "python",
   "name": "python3"
  },
  "language_info": {
   "codemirror_mode": {
    "name": "ipython",
    "version": 3
   },
   "file_extension": ".py",
   "mimetype": "text/x-python",
   "name": "python",
   "nbconvert_exporter": "python",
   "pygments_lexer": "ipython3",
   "version": "3.10.9"
  }
 },
 "nbformat": 4,
 "nbformat_minor": 5
}
